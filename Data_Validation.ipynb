{
  "nbformat": 4,
  "nbformat_minor": 0,
  "metadata": {
    "colab": {
      "provenance": [],
      "authorship_tag": "ABX9TyPHiltJrvpNpWBRs7VHMUt+",
      "include_colab_link": true
    },
    "kernelspec": {
      "name": "python3",
      "display_name": "Python 3"
    },
    "language_info": {
      "name": "python"
    }
  },
  "cells": [
    {
      "cell_type": "markdown",
      "metadata": {
        "id": "view-in-github",
        "colab_type": "text"
      },
      "source": [
        "<a href=\"https://colab.research.google.com/github/levmert/Data-Analysis/blob/master/Data_Validation.ipynb\" target=\"_parent\"><img src=\"https://colab.research.google.com/assets/colab-badge.svg\" alt=\"Open In Colab\"/></a>"
      ]
    },
    {
      "cell_type": "code",
      "execution_count": null,
      "metadata": {
        "id": "59nlY5RTWemS"
      },
      "outputs": [],
      "source": [
        "import pandas as pd\n",
        "import schedule\n",
        "import time\n",
        "\n",
        "# Function to load and monitor data changes in the CSV file\n",
        "def monitor_data_changes():\n",
        "    # Load the CSV file into a Pandas DataFrame\n",
        "    df = pd.read_csv('data.csv')\n",
        "\n",
        "    # Check for data anomalies (e.g., age greater than 100)\n",
        "    anomalies = df[df['Age'] > 100]\n",
        "\n",
        "    # Trigger alert if anomalies are found\n",
        "    if not anomalies.empty:\n",
        "        print(\"Alert: Data anomalies detected!\")\n",
        "        print(anomalies)\n",
        "\n",
        "# Schedule the monitoring function to run every hour\n",
        "schedule.every().hour.do(monitor_data_changes)\n",
        "\n",
        "# Run the monitoring continuously\n",
        "while True:\n",
        "    schedule.run_pending()\n",
        "    time.sleep(1)\n"
      ]
    }
  ]
}